{
 "cells": [
  {
   "cell_type": "code",
   "execution_count": 1,
   "id": "fcc1ff6f-558c-4198-9def-6c0cda89a12b",
   "metadata": {},
   "outputs": [
    {
     "data": {
      "text/plain": [
       "'11'"
      ]
     },
     "execution_count": 1,
     "metadata": {},
     "output_type": "execute_result"
    }
   ],
   "source": [
    "'''1. Write a function that accepts a positive integer as a parameter and then returns a\n",
    "representation of that number in binary (base 2).'''\n",
    "\n",
    "def bin_representation(n):\n",
    "    if n < 0:\n",
    "        print(\"Can't be a Negative Number\")\n",
    "    else:\n",
    "      binary_str = \"\"\n",
    "      while n > 0:\n",
    "          binary_str = str(n % 2) + binary_str\n",
    "          n //= 2\n",
    "      return binary_str\n",
    "bin_representation(3)"
   ]
  },
  {
   "cell_type": "code",
   "execution_count": 5,
   "id": "7d48047d-b4a5-490c-a7ed-33e539194ab5",
   "metadata": {},
   "outputs": [
    {
     "name": "stdout",
     "output_type": "stream",
     "text": [
      "The factors of 12 are:\n",
      "1\n",
      "2\n",
      "3\n",
      "4\n",
      "6\n",
      "12\n",
      "The factors of 7 are:\n",
      "1\n",
      "7\n"
     ]
    }
   ],
   "source": [
    "'''2. Write and test a function that takes an integer as its parameter and returns the\n",
    "factors of that integer. (A factor is an integer which can be multiplied by another to\n",
    "yield the original).'''\n",
    "\n",
    "def factors(n):\n",
    "   print(\"The factors of\",n,\"are:\")\n",
    "   for i in range(1, n + 1):\n",
    "       if n % i == 0:\n",
    "           print(i)\n",
    "\n",
    "print_factors(12)\n",
    "print_factors(7)\n",
    "\n",
    "\n"
   ]
  },
  {
   "cell_type": "code",
   "execution_count": 11,
   "id": "5d4377b3-7aea-44e5-8709-a20cea4b5f5a",
   "metadata": {},
   "outputs": [
    {
     "name": "stdout",
     "output_type": "stream",
     "text": [
      "49 is not a prime number\n",
      "13 is a prime number\n"
     ]
    }
   ],
   "source": [
    "'''3. Write and test a function that determines if a given integer is a prime number. A\n",
    "prime number is an integer greater than 1 that cannot be produced by multiplying\n",
    "two other integers.'''\n",
    "\n",
    "def Prime_finder(n):\n",
    "    if n > 1:\n",
    "        for i in range(2, (n // 2) + 1):\n",
    "            if (n % i) == 0:\n",
    "                print(n, \"is not a prime number\")\n",
    "                break\n",
    "        else:  \n",
    "            print(n, \"is a prime number\")\n",
    "    else:\n",
    "        print(n, \"is not a prime number\")\n",
    "\n",
    "Prime_finder(49)  \n",
    "Prime_finder(13)  \n"
   ]
  },
  {
   "cell_type": "code",
   "execution_count": 22,
   "id": "3c0dedd7-61fa-4e46-ae4d-10f9a83a8d2b",
   "metadata": {},
   "outputs": [
    {
     "name": "stdout",
     "output_type": "stream",
     "text": [
      "Original message: Let us take unsigned integers (32 bits), which consists of 0-31 bits.\n",
      "Encrypted message: .stib13-0fostsisnochcihw,)stib23(sregetnidengisnuekatsuteL\n",
      "\n"
     ]
    }
   ],
   "source": [
    "'''4. Computers are commonly used in encryption. A very simple form of encryption\n",
    "(more accurately \"obfuscation\") would be to remove the spaces from a message\n",
    "and reverse the resulting string. Write, and test, a function that takes a string\n",
    "containing a message and \"encrypts\" it in this way. '''\n",
    "\n",
    "def encryption_fun(message):\n",
    "    remove_space = ''.join(message.split())\n",
    "    encrypted_message = remove_space[::-1]\n",
    "    return encrypted_message\n",
    "\n",
    "\n",
    "def message():\n",
    "    code_langauge = \"Let us take unsigned integers (32 bits), which consists of 0-31 bits.\"\n",
    "    print(f\"Original message: {code_langauge}\")\n",
    "    print(f\"Encrypted message: {encryption_fun(code_langauge)}\\n\")  \n",
    "\n",
    "message()\n",
    "\n",
    "\n",
    "\n"
   ]
  },
  {
   "cell_type": "code",
   "execution_count": 1,
   "id": "fe2ef30a-cfcb-4c46-a9a0-38a9509905d5",
   "metadata": {},
   "outputs": [
    {
     "name": "stdout",
     "output_type": "stream",
     "text": [
      "Original Message: send cheese\n",
      "Random Interval: 17\n",
      "Encrypted Message: yfzbdzxayxaydfcbscbxcazefazdydybfeaydefyacaadcedbcnzddddedyxyxcyyzcddbeyzfbaxyexdzbdcdcazceycdadfxazdhbebzfyabeaezcbbyezyybdebxzaybcyycecyyfxyzyecceyxfzsebfddfbyebzzydbee\n"
     ]
    }
   ],
   "source": [
    "'''5. Another way to hide a message is to include the letters that make it up withinseemingly random text.\n",
    "The letters of the message might be every fih character,\n",
    "for example. Write and test a function that does such encryption. It should\n",
    "randomly generate an interval (between 2 and 20), space the message out\n",
    "accordingly, and should fill the gaps with random letters. The function should\n",
    "return the encrypted message and the interval used.\n",
    "For example, if the message is \"send cheese\", the random interval is 2, and for\n",
    "clarity the random letters are not random:\n",
    "send cheese\n",
    "s e n d c h e e s e\n",
    "sxyexynxydxy cxyhxyexyexysxye'''\n",
    "\n",
    "import random\n",
    "\n",
    "def encrypt_message(message):\n",
    "    random_letters = ['x', 'y', 'z', 'a', 'b', 'c', 'd', 'e', 'f']\n",
    "    \n",
    "    message_without_spaces = message.replace(\" \", \"\")\n",
    "    interval = random.randint(2, 20)\n",
    "    encrypted_message = \"\"\n",
    "\n",
    "    for letter in message_without_spaces:\n",
    "        for _ in range(interval - 1):\n",
    "            encrypted_message += random.choice(random_letters)\n",
    "        encrypted_message += letter\n",
    "\n",
    "    return encrypted_message, interval\n",
    "\n",
    "def main():\n",
    "    message = \"send cheese\"\n",
    "    encrypted_message, interval = encrypt_message(message)\n",
    "\n",
    "    print(f\"Original Message: {message}\")\n",
    "    print(f\"Random Interval: {interval}\")\n",
    "    print(f\"Encrypted Message: {encrypted_message}\")\n",
    "\n",
    "main()\n",
    "\n"
   ]
  },
  {
   "cell_type": "code",
   "execution_count": 1,
   "id": "88c65215-d08b-4cb0-a491-6e973a4d19c3",
   "metadata": {},
   "outputs": [
    {
     "name": "stdout",
     "output_type": "stream",
     "text": [
      "Original Message: send cheese\n",
      "Random Interval: 18\n",
      "Encrypted Message: edfaacyaafbyzdxbxsbcacbxfyfdceabbxeeaecfbydcdzbaaeeacncbbfdaxyedexcbbbydeadzdezzdeeyddcyccxxyxfdzydfbcyydachacxeccazaeddycfyyefbexfzxdbzfyxzfecebbxyfaezcaecdefbesyycfyzdyecfbzedfze\n",
      "Decrypted Message: sendcheese\n"
     ]
    }
   ],
   "source": [
    "'''6. decript it'''\n",
    "\n",
    "import random\n",
    "\n",
    "def encrypt_message(message):\n",
    "    random_letters = ['x', 'y', 'z', 'a', 'b', 'c', 'd', 'e', 'f']\n",
    "    \n",
    "    message_without_spaces = message.replace(\" \", \"\")\n",
    "    interval = random.randint(2, 20)\n",
    "    encrypted_message = \"\"\n",
    "\n",
    "    for letter in message_without_spaces:\n",
    "        for _ in range(interval - 1):\n",
    "            encrypted_message += random.choice(random_letters)\n",
    "        encrypted_message += letter\n",
    "\n",
    "    return encrypted_message, interval\n",
    "\n",
    "def decrypt_message(encrypted_message, interval):\n",
    "    # Extract letters at the correct interval\n",
    "    decrypted_message = \"\"\n",
    "    for i in range(interval - 1, len(encrypted_message), interval):\n",
    "        decrypted_message += encrypted_message[i]\n",
    "    return decrypted_message\n",
    "\n",
    "def main():\n",
    "    message = \"send cheese\"\n",
    "    encrypted_message, interval = encrypt_message(message)\n",
    "\n",
    "    print(f\"Original Message: {message}\")\n",
    "    print(f\"Random Interval: {interval}\")\n",
    "    print(f\"Encrypted Message: {encrypted_message}\")\n",
    "\n",
    "    decrypted_message = decrypt_message(encrypted_message, interval)\n",
    "    print(f\"Decrypted Message: {decrypted_message}\")\n",
    "\n",
    "main()\n"
   ]
  },
  {
   "cell_type": "code",
   "execution_count": null,
   "id": "ddd333e1-86c2-4b55-9ffe-3ffab5d3687a",
   "metadata": {},
   "outputs": [],
   "source": []
  }
 ],
 "metadata": {
  "kernelspec": {
   "display_name": "Python 3 (ipykernel)",
   "language": "python",
   "name": "python3"
  },
  "language_info": {
   "codemirror_mode": {
    "name": "ipython",
    "version": 3
   },
   "file_extension": ".py",
   "mimetype": "text/x-python",
   "name": "python",
   "nbconvert_exporter": "python",
   "pygments_lexer": "ipython3",
   "version": "3.13.0"
  }
 },
 "nbformat": 4,
 "nbformat_minor": 5
}
