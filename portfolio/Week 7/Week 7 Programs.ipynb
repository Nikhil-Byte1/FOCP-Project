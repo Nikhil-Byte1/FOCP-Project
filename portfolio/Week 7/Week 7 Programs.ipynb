{
 "cells": [
  {
   "cell_type": "code",
   "execution_count": 3,
   "id": "a78b1bfe-ad88-46b8-a43c-b69b78697dad",
   "metadata": {},
   "outputs": [
    {
     "name": "stdin",
     "output_type": "stream",
     "text": [
      "Enter a word:  jkahsd kahdjhsahdhas\n"
     ]
    },
    {
     "name": "stdout",
     "output_type": "stream",
     "text": [
      "Unique sorted letters: [' ', 'a', 'd', 'h', 'j', 'k', 's']\n"
     ]
    }
   ],
   "source": [
    "'''1. Write and test a function that takes a string as a parameter and returns a sorted list\n",
    " of all the unique letters used in the string. So, if the string is cheese, the list\n",
    " returned should be ['c', 'e', 'h', 's'].'''\n",
    "\n",
    "def unique_sorted_letters(word):\n",
    "    unique_letters = set() \n",
    "    \n",
    "    for letter in word:\n",
    "        unique_letters.add(letter)\n",
    "\n",
    "    sorted_unique_letters=sorted(list(unique_letters))\n",
    "    return sorted_unique_letters\n",
    "\n",
    "def main():\n",
    "    user_input = input(\"Enter a word: \") \n",
    "    result = unique_sorted_letters(user_input)\n",
    "    print(f\"Unique sorted letters: {result}\")\n",
    "\n",
    "main()\n",
    "\n"
   ]
  },
  {
   "cell_type": "code",
   "execution_count": 4,
   "id": "b0a97b76-ed49-4bc0-9975-9dfd984ad125",
   "metadata": {},
   "outputs": [
    {
     "name": "stdout",
     "output_type": "stream",
     "text": [
      "Letters that appear in at least one of the words: ['G', 'I', 'a', 'e', 'g', 'm', 'o', 'r', 's', 't', 'u']\n",
      "Letters that appear in both words: ['G', 'o', 'r']\n",
      "Letters that appear in either word but not both: ['I', 'a', 'e', 'g', 'm', 's', 't', 'u']\n"
     ]
    }
   ],
   "source": [
    "'''2.  Write and test three functions that each take two words (strings) as parameters and\n",
    " return sorted lists (as defined above) representing respectively:\n",
    " Letters that appear in at least one of the two words.\n",
    " Letters that appear in both words.\n",
    " Letters that appear in either word, but not in both.\n",
    " Hint: These could all be done programmatically, but consider carefully what topic we\n",
    " have been discussing this week! Each function can be exactly one line.'''\n",
    "\n",
    "def unique_sorted_union(word1, word2):\n",
    "    # Union of the sets\n",
    "    union= sorted(list(set(word1) | set(word2)))\n",
    "    return union\n",
    "\n",
    "def unique_sorted_intersection(word1, word2):\n",
    "    # Intersection of the sets\n",
    "    intersection= sorted(list(set(word1) & set(word2)))\n",
    "    return intersection\n",
    "\n",
    "def unique_sorted_difference(word1, word2):\n",
    "    # Symmetric difference of the sets\n",
    "    difference= sorted(list(set(word1) ^ set(word2)))\n",
    "    return difference\n",
    "\n",
    "def main():\n",
    "    word1 = \"Gorgeous\"\n",
    "    word2 = \"IamGroot\"\n",
    "    \n",
    "    print(f\"Letters that appear in at least one of the words: {unique_sorted_union(word1, word2)}\")\n",
    "    print(f\"Letters that appear in both words: {unique_sorted_intersection(word1, word2)}\")\n",
    "    print(f\"Letters that appear in either word but not both: {unique_sorted_difference(word1, word2)}\")\n",
    "\n",
    "main()\n"
   ]
  },
  {
   "cell_type": "code",
   "execution_count": 5,
   "id": "aaaa3f8e-10d9-4518-a53e-7091b378c96b",
   "metadata": {},
   "outputs": [
    {
     "name": "stdin",
     "output_type": "stream",
     "text": [
      "Enter the name of a country (or type 'exit' to quit):  Nepal\n"
     ]
    },
    {
     "name": "stdout",
     "output_type": "stream",
     "text": [
      "The capital city of Nepal is Kathmandu.\n"
     ]
    },
    {
     "name": "stdin",
     "output_type": "stream",
     "text": [
      "Enter the name of a country (or type 'exit' to quit):  exit\n"
     ]
    },
    {
     "name": "stdout",
     "output_type": "stream",
     "text": [
      "Exiting the program. Goodbye!\n"
     ]
    }
   ],
   "source": [
    "'''3.  Write a program that manages a list of countries and their capital cities. It should\n",
    " prompt the user to enter the name of a country. If the program already \"knows\"\n",
    " the name of the capital city, it should display it. Otherwise it should ask the user to\n",
    " enter it. This should carry on until the user terminates the program (how this\n",
    " happens is up to you).\n",
    " Note: A good solution to this task will be able to cope with the country being entered\n",
    " variously as, for example, \"Wales\", \"wales\", \"WALES\" and so on.'''\n",
    "\n",
    "def main():\n",
    "    countries = {\n",
    "        \"nepal\": \"kathmandu\",\n",
    "        \"france\": \"paris\",\n",
    "        \"japan\": \"tokyo\"\n",
    "    }\n",
    "\n",
    "    while True:\n",
    "        country = input(\"Enter the name of a country (You can type 'exit' to quit): \").lower()\n",
    "        \n",
    "        if country == \"exit\":\n",
    "            print(\"Exiting the program. Goodbye!\")\n",
    "            break\n",
    "        \n",
    "        if country in countries:\n",
    "            print(f\"The capital city of {country.capitalize()} is {countries[country].capitalize()}.\")\n",
    "        else:\n",
    "            capital = input(f\"I don't know the capital of {country.capitalize()}. Please enter it: \").strip().lower()\n",
    "            countries[country] = capital\n",
    "            print(f\"Added {country.capitalize()} and its capital {capital.capitalize()} to the list.\")\n",
    "\n",
    "\n",
    "main()\n"
   ]
  },
  {
   "cell_type": "code",
   "execution_count": 7,
   "id": "932de763-6c96-4c50-865c-19bd35c16f54",
   "metadata": {},
   "outputs": [
    {
     "name": "stdin",
     "output_type": "stream",
     "text": [
      "Enter the encrypted message:  Nikhil\n"
     ]
    },
    {
     "name": "stdout",
     "output_type": "stream",
     "text": [
      "\n",
      "Six most common letters and their frequencies:\n",
      "Letter: i, Count: 2\n",
      "Letter: n, Count: 1\n",
      "Letter: k, Count: 1\n",
      "Letter: h, Count: 1\n",
      "Letter: l, Count: 1\n"
     ]
    }
   ],
   "source": [
    "'''4.  One approach to analysing some encrypted data where a substitution is suspected\n",
    " is frequency analysis. A count of the different symbols in the message can be used\n",
    " to identify the language used, and sometimes some of the letters. In English, the\n",
    " most common letter is \"e\", and so the symbol representing \"e\" should appear most\n",
    " in the encrypted text.\n",
    " Write a program that processes a string representing a message and reports the six\n",
    " most common letters, along with the number of times they appear. Case should\n",
    " not matter, so \"E\" and \"e\" are considered the same.\n",
    " Hint: There are many ways to do this. It is obviously a dictionary, but we will want\n",
    " zero counts, so some initialisation is needed. Also, sorting dictionaries is tricky, so\n",
    " best to ignore that initially, and then check the usual resources for the runes.'''\n",
    "\n",
    "from collections import Counter\n",
    "\n",
    "def frequency_analysis(message):\n",
    "    normalized_message = [char.lower() for char in message if char.isalpha()]\n",
    "    letter_counts = Counter(normalized_message)\n",
    "    most_common = letter_counts.most_common(6)\n",
    "    \n",
    "    return most_common\n",
    "\n",
    "def main():\n",
    "    message = input(\"Enter the encrypted message: \")\n",
    "    most_common_letters = frequency_analysis(message)\n",
    "    \n",
    "    print(\"\\nSix most common letters and their frequencies:\")\n",
    "    for letter, count in most_common_letters:\n",
    "        print(f\"Letter: {letter}, Count: {count}\")\n",
    "\n",
    "main()"
   ]
  },
  {
   "cell_type": "code",
   "execution_count": null,
   "id": "6adbf80c-3d33-4bb2-a9e1-c4c27388cf02",
   "metadata": {},
   "outputs": [],
   "source": []
  }
 ],
 "metadata": {
  "kernelspec": {
   "display_name": "Python 3 (ipykernel)",
   "language": "python",
   "name": "python3"
  },
  "language_info": {
   "codemirror_mode": {
    "name": "ipython",
    "version": 3
   },
   "file_extension": ".py",
   "mimetype": "text/x-python",
   "name": "python",
   "nbconvert_exporter": "python",
   "pygments_lexer": "ipython3",
   "version": "3.13.0"
  }
 },
 "nbformat": 4,
 "nbformat_minor": 5
}
