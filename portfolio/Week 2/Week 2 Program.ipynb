{
 "cells": [
  {
   "cell_type": "code",
   "execution_count": 1,
   "id": "519e8066-9ab7-4fc2-9306-facae0dfd574",
   "metadata": {},
   "outputs": [
    {
     "name": "stdin",
     "output_type": "stream",
     "text": [
      "Hello, what is your name?  Mr Apricot\n"
     ]
    },
    {
     "name": "stdout",
     "output_type": "stream",
     "text": [
      "Hello, Mr Apricot. Good to meet you!\n"
     ]
    }
   ],
   "source": [
    "'''Last week you wrote a program that printed out a cheery greeting including your\n",
    " name. Take a copy of it, and modify it so that the user enters their name at the\n",
    " keyboard, and then receives a greeting. For example:\n",
    " Hello, what is your name? Mr Apricot\n",
    " Hello, Mr Apricot. Good to meet you!'''\n",
    "\n",
    "Name=input(\"Hello, what is your name? \")\n",
    "print(f\"Hello, {Name}. Good to meet you!\")"
   ]
  },
  {
   "cell_type": "code",
   "execution_count": 2,
   "id": "d245d1c0-4ac6-4fe5-ab4f-9a3986398186",
   "metadata": {},
   "outputs": [
    {
     "name": "stdin",
     "output_type": "stream",
     "text": [
      "Enter a tempearture in Celsius:  32.5\n"
     ]
    },
    {
     "name": "stdout",
     "output_type": "stream",
     "text": [
      "32.5 is equivalent to 90.5F.\n"
     ]
    }
   ],
   "source": [
    "'''Write a program that prompts a user to enter a temperature in Celsius, and then\n",
    " displays the corresponding temperature in Fahrenheit, like so:\n",
    " Enter a temperature in Celsius: 32.5\n",
    " 32.5C is equivalent to 90.5F.'''\n",
    "\n",
    "Temperature=float(input(\"Enter a tempearture in Celsius: \"))\n",
    "Fahrenheit= (Temperature *1.8) + 32\n",
    "print(f\"{Temperature} is equivalent to {Fahrenheit}F.\")\n",
    "\n",
    "                  "
   ]
  },
  {
   "cell_type": "code",
   "execution_count": 10,
   "id": "52dad857-d517-47f4-bd95-57517ac482fe",
   "metadata": {},
   "outputs": [
    {
     "name": "stdin",
     "output_type": "stream",
     "text": [
      "How many students?  113\n",
      "Required group size?  22\n"
     ]
    },
    {
     "name": "stdout",
     "output_type": "stream",
     "text": [
      "There will be 5 groups with 3 student left over\n"
     ]
    }
   ],
   "source": [
    "'''The Head of Computing at the University of Poppleton is tasked with dividing a group of students into lab groups. \n",
    "A lab group is usually 24 students, but this is sometimes varied to create groups of similar size. \n",
    "Write a program that prompts for the number of students and group size, and then displays how many groups \n",
    "will be needed and how many will be le over in a smaller group. \n",
    "How many students? 113 \n",
    "Required group size? 22 \n",
    "There will be 5 groups with 3 students left over. \n",
    "For bonus credit, see if you can fix the grammar in the output. \n",
    "So if there were 101 students in groups of 20 the output would be: There will be 5 groups with 1 student left over.'''\n",
    "\n",
    "Students=int(input(\"How many students? \")) \n",
    "Groups=int(input(\"Required group size? \"))\n",
    "\n",
    "Total_group= Students/Groups \n",
    "LeftOverStudents= Students % Groups \n",
    "print (f\"There will be {int(Total_group)} groups with {LeftOverStudents} student left over\")"
   ]
  },
  {
   "cell_type": "code",
   "execution_count": 2,
   "id": "1fad1002-e4e1-40f1-a1a3-9943312cb472",
   "metadata": {},
   "outputs": [
    {
     "name": "stdin",
     "output_type": "stream",
     "text": [
      "How many chocolate did u count?:  80\n",
      "How many pupils will attend?:  7\n"
     ]
    },
    {
     "name": "stdout",
     "output_type": "stream",
     "text": [
      "\n",
      "Please give 11 sweets to each pupil, and you will have 3 sweet leftover.\n"
     ]
    }
   ],
   "source": [
    "'''A kindly teacher wishes to distribute a tub of sweets between her pupils. She will\n",
    " first count the sweets and then divide them according to how many pupils attend\n",
    " that day. Write a program that will tell the teacher how many sweets to give to each\n",
    " pupil, and how many she will have left over.'''\n",
    "\n",
    "Choco=int(input(\"How many chocolate did u count?: \"))\n",
    "Pupils=int(input(\"How many pupils will attend?: \"))\n",
    "\n",
    "ToGive=Choco/Pupils\n",
    "Leftover=Choco % Pupils\n",
    "\n",
    "if (Choco>Pupils):\n",
    "     print(f\"\\nPlease give {int(ToGive)} sweets to each pupil, and you will have {int(Leftover)} sweet leftover.\")\n",
    "else:\n",
    "    print(\"\\nNot enough sweets\")\n",
    "\n",
    "\n"
   ]
  }
 ],
 "metadata": {
  "kernelspec": {
   "display_name": "Python 3 (ipykernel)",
   "language": "python",
   "name": "python3"
  },
  "language_info": {
   "codemirror_mode": {
    "name": "ipython",
    "version": 3
   },
   "file_extension": ".py",
   "mimetype": "text/x-python",
   "name": "python",
   "nbconvert_exporter": "python",
   "pygments_lexer": "ipython3",
   "version": "3.13.0"
  }
 },
 "nbformat": 4,
 "nbformat_minor": 5
}
