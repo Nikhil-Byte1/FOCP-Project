{
 "cells": [
  {
   "cell_type": "markdown",
   "id": "1d003c51-cc3a-498c-be6e-e2cdf6f9a311",
   "metadata": {},
   "source": [
    "# Nikhilesh Maharjan || Week 3 ||  Programs"
   ]
  },
  {
   "cell_type": "code",
   "execution_count": 2,
   "id": "e4f6c76b-5c20-4cc7-b92c-70339b6830e7",
   "metadata": {},
   "outputs": [
    {
     "name": "stdin",
     "output_type": "stream",
     "text": [
      "Enter your name:  Nikhil\n"
     ]
    },
    {
     "name": "stdout",
     "output_type": "stream",
     "text": [
      "Hello, Nikhil!\n"
     ]
    }
   ],
   "source": [
    "''' 1. Modify your greeting program so that if the user does not enter a name (i.e. they\n",
    "       just press enter), the program responds \"Hello, Stranger!\". Otherwise it should print\n",
    "       a greeting with their name as before.'''\n",
    "\n",
    "Name=input(\"Enter your name: \")\n",
    "if Name:\n",
    "    print(f\"Hello, {Name}!\")\n",
    "else:\n",
    "    print(\"Hello, Stranger!\")\n"
   ]
  },
  {
   "cell_type": "code",
   "execution_count": 4,
   "id": "c68c3f3a-dae3-4e8b-a819-a53246ad6f04",
   "metadata": {},
   "outputs": [
    {
     "name": "stdin",
     "output_type": "stream",
     "text": [
      "Enter your new username:  Alu\n",
      "Enter your new password:  ALU@\n",
      "Please enter your new password again:  alu@\n"
     ]
    },
    {
     "name": "stdout",
     "output_type": "stream",
     "text": [
      "Password didn't match please enter again\n"
     ]
    }
   ],
   "source": [
    "'''2. Write a program that simulates the way in which a user might choose a password.\n",
    " The program should prompt for a new password, and then prompt again. If the two\n",
    " passwords entered are the same the program should say \"Password Set\" or\n",
    " similar, otherwise it should report an error.'''\n",
    "\n",
    "User= input(\"Enter your new username: \")\n",
    "Password=str(input(\"Enter your new password: \"))\n",
    "Re_Enter_Password=str(input(\"Please enter your new password again: \"))\n",
    "if Password==Re_Enter_Password:\n",
    "    print(\"Password Set Succesfully!\")\n",
    "    print(f\"Welcome {User}\")\n",
    "else:\n",
    "    print(\"Password didn't match please enter again\")\n",
    "    \n",
    "             "
   ]
  },
  {
   "cell_type": "code",
   "execution_count": 13,
   "id": "85de0e61-10d8-4ea9-8cc6-d42f822fd796",
   "metadata": {},
   "outputs": [
    {
     "name": "stdin",
     "output_type": "stream",
     "text": [
      "Enter your new username:  alu\n",
      "Enter your new password (Must have characters between 8 to 12):  12\n",
      "Please enter your new password again:  12\n"
     ]
    },
    {
     "name": "stdout",
     "output_type": "stream",
     "text": [
      "Password needs to be 8 to 12 character long\n"
     ]
    }
   ],
   "source": [
    "'''3. Modify your previous program so that the password must be between 8 and 12\n",
    " characters (inclusive) long.'''\n",
    "\n",
    "User= input(\"Enter your new username: \")\n",
    "Password=str(input(\"Enter your new password (Must have characters between 8 to 12): \"))\n",
    "Re_Enter_Password=str(input(\"Please enter your new password again: \"))\n",
    "Length=len(Password)\n",
    "if (8<=Length<=12):\n",
    "    if Password==Re_Enter_Password:\n",
    "       print(\"Password Set Succesfully!\")\n",
    "       print(f\"Welcome {User}\")\n",
    "    else:\n",
    "       print(\"Password didn't match \")\n",
    "else:\n",
    "    print(\"Password needs to be 8 to 12 character long\")\n",
    "\n"
   ]
  },
  {
   "cell_type": "code",
   "execution_count": 16,
   "id": "562e29e9-6fd7-4cd5-a5ea-b2db88701e95",
   "metadata": {},
   "outputs": [
    {
     "name": "stdin",
     "output_type": "stream",
     "text": [
      "Enter your new username:  alu\n",
      "Enter your new password (Must have characters between 8 to 12):  letmein\n",
      "Please enter your new password again:  letmein\n"
     ]
    },
    {
     "name": "stdout",
     "output_type": "stream",
     "text": [
      "Don't use common password! Try Again\n"
     ]
    }
   ],
   "source": [
    "'''4.  Modify your program again so that the chosen password cannot be one of a list of\n",
    " common passwords, defined thus:\n",
    " BAD_PASSWORDS = ['password', 'letmein', 'sesame', 'hello', 'justinbieber']'''\n",
    "\n",
    "BAD_PASSWORDS = ['password', 'letmein', 'sesame', 'hello', 'justinbieber']\n",
    "User= input(\"Enter your new username: \")\n",
    "\n",
    "Password=str(input(\"Enter your new password (Must have characters between 8 to 12): \"))\n",
    "Re_Enter_Password=str(input(\"Please enter your new password again: \"))\n",
    "Length=len(Password)\n",
    "if (Password not in BAD_PASSWORDS):\n",
    " if (8<=Length<=12):\n",
    "    if Password==Re_Enter_Password:\n",
    "       print(\"Password Set Succesfully!\")\n",
    "       print(f\"Welcome {User}\")\n",
    "    else:\n",
    "       print(\"Password didn't match \")\n",
    " else:\n",
    "     print(\"Password needs to be 8 to 12 character long\")\n",
    "else:\n",
    "    print(\"Don't use common password! Try Again\")\n",
    "    "
   ]
  },
  {
   "cell_type": "code",
   "execution_count": 17,
   "id": "fba7b7f4-88d3-42c8-8d1a-5a5de549c088",
   "metadata": {},
   "outputs": [
    {
     "name": "stdin",
     "output_type": "stream",
     "text": [
      "Enter your new username:  alu\n",
      "Enter your new password (Must have characters between 8 to 12):  12\n",
      "Please enter your new password again:  12\n"
     ]
    },
    {
     "name": "stdout",
     "output_type": "stream",
     "text": [
      "Password needs to be 8 to 12 characters long. Try again!\n"
     ]
    },
    {
     "name": "stdin",
     "output_type": "stream",
     "text": [
      "Enter your new password (Must have characters between 8 to 12):  12345678\n",
      "Please enter your new password again:  12345678\n"
     ]
    },
    {
     "name": "stdout",
     "output_type": "stream",
     "text": [
      "Password Set Successfully!\n",
      "Welcome alu\n"
     ]
    }
   ],
   "source": [
    "'''5. Modify your program a final time so that it executes until the user successfully\n",
    " chooses a password. That is, if the password chosen fails any of the checks, the\n",
    " program should return to asking for the password the first time.'''\n",
    "\n",
    "BAD_PASSWORDS = ['password', 'letmein', 'sesame', 'hello', 'justinbieber']\n",
    "User = input(\"Enter your new username: \")\n",
    "\n",
    "while True:\n",
    "    Password = str(input(\"Enter your new password (Must have characters between 8 to 12): \"))\n",
    "    Re_Enter_Password = str(input(\"Please enter your new password again: \"))\n",
    "    Length = len(Password)\n",
    "    \n",
    "    if Password not in BAD_PASSWORDS:\n",
    "        if 8 <= Length <= 12:\n",
    "            if Password == Re_Enter_Password:\n",
    "                print(\"Password Set Successfully!\")\n",
    "                print(f\"Welcome {User}\")\n",
    "                break  # Loop will end here if password is correct\n",
    "            else:\n",
    "                print(\"Passwords didn't match. Try again!\")\n",
    "        else:\n",
    "            print(\"Password needs to be 8 to 12 characters long. Try again!\")\n",
    "    else:\n",
    "        print(\"Don't use a common password! Try again.\")\n",
    "\n",
    "    \n",
    "    "
   ]
  },
  {
   "cell_type": "code",
   "execution_count": 21,
   "id": "9eab8285-9e3f-424f-844e-7b0d8fc1f081",
   "metadata": {},
   "outputs": [
    {
     "name": "stdout",
     "output_type": "stream",
     "text": [
      "Seven Times Table\n",
      "\n",
      "0 x 7= 0\n",
      "1 x 7= 7\n",
      "2 x 7= 14\n",
      "3 x 7= 21\n",
      "4 x 7= 28\n",
      "5 x 7= 35\n",
      "6 x 7= 42\n",
      "7 x 7= 49\n",
      "8 x 7= 56\n",
      "9 x 7= 63\n",
      "10 x 7= 70\n",
      "11 x 7= 77\n",
      "12 x 7= 84\n"
     ]
    }
   ],
   "source": [
    "'''6.  Write a program that displays the \"Seven Times Table\". That is, the result of\n",
    " multiplying 7 by every number from 0 to 12 inclusive. The output might start:\n",
    " 0 x 7 = 0\n",
    " 1 x 7 = 7\n",
    " 2 x 7 = 14\n",
    " and so on.'''\n",
    "\n",
    "print(\"Seven Times Table\\n\")\n",
    "for i in range (13):\n",
    "    Multiply=i*7\n",
    "    print(f\"{i} x {7}= {Multiply}\")\n",
    "\n"
   ]
  },
  {
   "cell_type": "code",
   "execution_count": 23,
   "id": "ee3791c9-2b23-4754-898e-c8327ecd8dff",
   "metadata": {},
   "outputs": [
    {
     "name": "stdin",
     "output_type": "stream",
     "text": [
      "Please enter the number you want the table for:  12\n"
     ]
    },
    {
     "name": "stdout",
     "output_type": "stream",
     "text": [
      "0 x 12= 0\n",
      "1 x 12= 12\n",
      "2 x 12= 24\n",
      "3 x 12= 36\n",
      "4 x 12= 48\n",
      "5 x 12= 60\n",
      "6 x 12= 72\n",
      "7 x 12= 84\n",
      "8 x 12= 96\n",
      "9 x 12= 108\n",
      "10 x 12= 120\n",
      "11 x 12= 132\n",
      "12 x 12= 144\n"
     ]
    }
   ],
   "source": [
    "'''7. Modify your \"Times Table\" program so that the user enters the number of the table\n",
    " they require. This number should be between 0 and 12 inclusive.'''\n",
    "\n",
    "\n",
    "\n",
    "while True:\n",
    "    Number=int(input(\"Please enter the number you want the table for: \"))\n",
    "    if (0<=Number<=12):\n",
    "        break\n",
    "    else:\n",
    "        print(\"Please input number from 0 to 12!!\")\n",
    "        \n",
    "for i in range (13):\n",
    "    Multiply=i*Number\n",
    "    print(f\"{i} x {Number}= {Multiply}\")"
   ]
  },
  {
   "cell_type": "code",
   "execution_count": 5,
   "id": "cf286d38-817b-49b7-aa1e-388362c6a2b6",
   "metadata": {},
   "outputs": [
    {
     "name": "stdin",
     "output_type": "stream",
     "text": [
      "Please enter the number you want the table for:  -6\n"
     ]
    },
    {
     "name": "stdout",
     "output_type": "stream",
     "text": [
      "12 x -6= -72\n",
      "11 x -6= -66\n",
      "10 x -6= -60\n",
      "9 x -6= -54\n",
      "8 x -6= -48\n",
      "7 x -6= -42\n",
      "6 x -6= -36\n",
      "5 x -6= -30\n",
      "4 x -6= -24\n",
      "3 x -6= -18\n",
      "2 x -6= -12\n",
      "1 x -6= -6\n",
      "0 x -6= 0\n"
     ]
    }
   ],
   "source": [
    "'''Modify the \"Times Table\" again so that the user still enters the number of the table,\n",
    " but if this number is negative the table is printed backwards. So entering \"-7\"\n",
    " would produce the Seven Times Table starting at \"12 times\" down to \"0 times'''\n",
    "\n",
    "while True:\n",
    "    Number=int(input(\"Please enter the number you want the table for: \"))\n",
    "    if (-12<=Number<=12):\n",
    "        break\n",
    "    else:\n",
    "        print(\"Please input number from 0 to 12!!\")\n",
    "\n",
    "if (Number<0):\n",
    "    for i in range(12,-1,-1):\n",
    "         Multiply=i*Number\n",
    "         print(f\"{i} x {Number}= {Multiply}\")\n",
    "else:   \n",
    "  for i in range (13):\n",
    "     Multiply=i*Number\n",
    "     print(f\"{i} x {Number}= {Multiply}\")\n"
   ]
  }
 ],
 "metadata": {
  "kernelspec": {
   "display_name": "Python 3 (ipykernel)",
   "language": "python",
   "name": "python3"
  },
  "language_info": {
   "codemirror_mode": {
    "name": "ipython",
    "version": 3
   },
   "file_extension": ".py",
   "mimetype": "text/x-python",
   "name": "python",
   "nbconvert_exporter": "python",
   "pygments_lexer": "ipython3",
   "version": "3.13.0"
  }
 },
 "nbformat": 4,
 "nbformat_minor": 5
}
