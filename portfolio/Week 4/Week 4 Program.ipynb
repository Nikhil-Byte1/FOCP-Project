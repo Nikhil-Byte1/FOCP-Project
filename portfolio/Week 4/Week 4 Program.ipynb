{
 "cells": [
  {
   "cell_type": "markdown",
   "id": "9ef35dca-07e4-439b-b609-754f1c41e562",
   "metadata": {},
   "source": [
    "# Nikhilesh Maharjan || Week 4 || Programs"
   ]
  },
  {
   "cell_type": "code",
   "execution_count": 3,
   "id": "d025d6b7-ea47-4fe6-80af-59206f2aa061",
   "metadata": {},
   "outputs": [
    {
     "name": "stdin",
     "output_type": "stream",
     "text": [
      "Enter an interger:  102\n"
     ]
    },
    {
     "name": "stdout",
     "output_type": "stream",
     "text": [
      "The number 102 is False for being in the range 0 to 100\n"
     ]
    }
   ],
   "source": [
    "'''1. Functions are often used to validate input. Write a function that accepts a single\n",
    " integer as a parameter and returns True if the integer is in the range 0 to 100\n",
    " (inclusive), or False otherwise. Write a short program to test the function.'''\n",
    "\n",
    "user_input=int(input(\"Enter an interger: \"))\n",
    "\n",
    "def My_integer(number):\n",
    "    validate= 0<=number<=100\n",
    "    return validate\n",
    "\n",
    "print(f\"The number {user_input} is {My_integer(user_input)} for being in the range 0 to 100\")\n",
    "    "
   ]
  },
  {
   "cell_type": "code",
   "execution_count": 6,
   "id": "3766a862-243d-4e51-8b7f-78abf2badbaf",
   "metadata": {},
   "outputs": [
    {
     "name": "stdin",
     "output_type": "stream",
     "text": [
      "Write me a string: UhdaSA\n"
     ]
    },
    {
     "name": "stdout",
     "output_type": "stream",
     "text": [
      "(3, 3)\n"
     ]
    }
   ],
   "source": [
    "'''2. Write a function that has a single string as its parameter, and returns the number of\n",
    " uppercase letters, and the number of lowercase letters in the string. Test the\n",
    " function with a short program.'''\n",
    "\n",
    "def check_case(a):\n",
    "    uppercase=0\n",
    "    lowercase=0\n",
    "    for i in a:\n",
    "        if i.isupper():\n",
    "            uppercase= uppercase+1\n",
    "        if i.islower():\n",
    "            lowercase=lowercase+1\n",
    "    return uppercase,lowercase\n",
    "StringName=input(\"Write me a string:\")\n",
    "print(check_case(StringName))\n",
    "\n"
   ]
  },
  {
   "cell_type": "code",
   "execution_count": 12,
   "id": "2ecf5dda-db50-4572-bf42-f35345739894",
   "metadata": {},
   "outputs": [
    {
     "name": "stdin",
     "output_type": "stream",
     "text": [
      "Please enter your name:  NIkhILesH\n"
     ]
    },
    {
     "name": "stdout",
     "output_type": "stream",
     "text": [
      "Nikhilesh\n"
     ]
    }
   ],
   "source": [
    "'''3.  Modify your \"greetings\" program so that the first letter of the name entered is\n",
    " always in uppercase with the rest in lowercase. This should happen even if the user\n",
    " entered their name differently. So if the user entered arthur, ARTHUR, or even\n",
    " arTHur the name should be displayed as Arthur.'''\n",
    "\n",
    "def Name_Corrector():\n",
    "   Guest_name=input(\"Please enter your name: \")\n",
    "   Corrected=Guest_name[0].upper() + Guest_name[1:].lower()\n",
    "   print(Corrected)\n",
    "\n",
    "Name_Corrector()\n",
    "    \n"
   ]
  },
  {
   "cell_type": "code",
   "execution_count": 22,
   "id": "6f8765cf-0946-41a7-bc3c-5dfd4feb6b4f",
   "metadata": {},
   "outputs": [
    {
     "name": "stdin",
     "output_type": "stream",
     "text": [
      "Please enter a string:  Nikhil\n"
     ]
    },
    {
     "name": "stdout",
     "output_type": "stream",
     "text": [
      "Nikhi\n"
     ]
    }
   ],
   "source": [
    "'''4. When processing data it is often useful to remove the last character from some\n",
    " input (it is often a newline). Write and test a function that takes a string parameter\n",
    " and returns it with the last character removed. (If the string contains one or fewer\n",
    " characters, return it unchanged.)'''\n",
    "\n",
    "def Remove_LastCharacter(word):\n",
    "    if len(word)>1:\n",
    "        return word[:-1]\n",
    "    else:\n",
    "        return word\n",
    "\n",
    "User_String=input(\"Please enter a string: \")\n",
    "Removed=Remove_LastCharacter(User_String)\n",
    "print(Removed)\n",
    "\n"
   ]
  },
  {
   "cell_type": "code",
   "execution_count": 29,
   "id": "cc95bb4a-ce07-468f-a350-1c8da83cf28f",
   "metadata": {},
   "outputs": [
    {
     "name": "stdin",
     "output_type": "stream",
     "text": [
      "Enter the temperature in centigrade: 36\n",
      "Enter the temperature in fahrenheit: 98\n"
     ]
    },
    {
     "name": "stdout",
     "output_type": "stream",
     "text": [
      "The 36.0C converts to 96.8F\n",
      "|||||||||||||||||||||||||||||\n",
      "The 98.0F converts to 36.67C\n"
     ]
    }
   ],
   "source": [
    "'''5.  Write and test a function that converts a temperature measured in degrees\n",
    " centigrade into the equivalent in fahrenheit, and another that does the reverse\n",
    " conversion. Test both functions. (Google will find you the formulae).'''\n",
    "\n",
    "def Centigrade_to_Fahren(Temp):\n",
    "    fahrenheit = (Temp * 9/5) + 32\n",
    "    return fahrenheit\n",
    "\n",
    "def Fahren_to_Centi(Temp):\n",
    "    centigrade = (Temp - 32) * 5/9\n",
    "    return centigrade\n",
    "\n",
    "Celcius=float(input(\"Enter the temperature in centigrade:\"))\n",
    "Fahrenheit_temp= Centigrade_to_Fahren(Celcius)\n",
    "\n",
    "Fahrenheit=float(input(\"Enter the temperature in fahrenheit:\"))\n",
    "Celcius_temp= Fahren_to_Centi(Fahrenheit)\n",
    "\n",
    "print(f\"The {Celcius}C converts to {Fahrenheit_temp}F\")\n",
    "print(\"|||||||||||||||||||||||||||||\")\n",
    "print(f\"The {Fahrenheit}F converts to {Celcius_temp:.2f}C\")\n"
   ]
  },
  {
   "cell_type": "code",
   "execution_count": 38,
   "id": "618e6a43-c0a1-4490-8df1-3e6cbce9cf91",
   "metadata": {},
   "outputs": [
    {
     "name": "stdin",
     "output_type": "stream",
     "text": [
      "Enter the temperature following with letter C at last (eg.36C): 36c\n"
     ]
    },
    {
     "name": "stdout",
     "output_type": "stream",
     "text": [
      "The 36c is equivalent to 96.80F\n"
     ]
    }
   ],
   "source": [
    "'''6. Write a program that takes a centigrade temperature and displays the equivalent in\n",
    " fahrenheit. The input should be a number followed by a letter C. The output should\n",
    " be in the same format.'''\n",
    "\n",
    "def centigrade_to_fahrenheit(temp):\n",
    "    fahrenheit = (temp * 9/5) + 32\n",
    "    return fahrenheit\n",
    "\n",
    "Temperature=input(\"Enter the temperature following with letter C at last (eg.36C):\")\n",
    "if (Temperature[-1].upper() !='C'):\n",
    "    print(\"Please enter C after the number!!\")\n",
    "else:\n",
    "    Change_datatype=float(Temperature[:-1])\n",
    "    Fahrenheit=centigrade_to_fahrenheit(Change_datatype)\n",
    "    print(f\"The {Temperature} is equivalent to {Fahrenheit:.2f}F\")\n",
    "    "
   ]
  },
  {
   "cell_type": "code",
   "execution_count": 41,
   "id": "8846c610-e091-40be-bd01-4682ee147911",
   "metadata": {},
   "outputs": [
    {
     "name": "stdin",
     "output_type": "stream",
     "text": [
      "Enter temperature (eg.36C):  37c\n",
      "Enter temperature (eg.36C):  35c\n",
      "Enter temperature (eg.36C):  40c\n",
      "Enter temperature (eg.36C):  32c\n",
      "Enter temperature (eg.36C):  38c\n",
      "Enter temperature (eg.36C):  39c\n"
     ]
    },
    {
     "name": "stdout",
     "output_type": "stream",
     "text": [
      "Maximum temperature: 104.00F\n",
      "Minimum temperature: 89.60F\n",
      "Mean temperature: 98.30F\n"
     ]
    }
   ],
   "source": [
    "'''7. Write a program that reads 6 temperatures (in the same format as before), and\n",
    " displays the maximum, minimum, and mean of the values.\n",
    " Hint: You should know there are built-in functions for max and min. If you hunt, you\n",
    " might also find one for the mean.'''\n",
    "\n",
    "\n",
    "def centigrade_to_fahrenheit(temp):\n",
    "    fahrenheit = (temp * 9/5) + 32\n",
    "    return fahrenheit\n",
    "\n",
    "store_temperatures = []\n",
    "\n",
    "for i in range(6):\n",
    "    Temperature = input(f\"Enter temperature (eg.36C): \")\n",
    "    \n",
    "    if Temperature[-1].upper() != 'C':\n",
    "        print(\"Please enter C after the number!!!\")\n",
    "    else:\n",
    "        change_datatype = float(Temperature[:-1])\n",
    "        fahrenheit_value = centigrade_to_fahrenheit(change_datatype)\n",
    "        store_temperatures.append(fahrenheit_value)\n",
    "\n",
    "\n",
    "max_temp = max(store_temperatures)\n",
    "min_temp = min(store_temperatures)\n",
    "mean_temp = sum(store_temperatures) / len(store_temperatures)\n",
    "\n",
    "print(f\"Maximum temperature: {max_temp:.2f}F\")\n",
    "print(f\"Minimum temperature: {min_temp:.2f}F\")\n",
    "print(f\"Mean temperature: {mean_temp:.2f}F\")"
   ]
  },
  {
   "cell_type": "code",
   "execution_count": 43,
   "id": "98e1577e-baf5-49b0-9e4c-0fb16589129a",
   "metadata": {},
   "outputs": [
    {
     "name": "stdin",
     "output_type": "stream",
     "text": [
      "Enter temperature (e.g., 36C), or press Enter to finish:  36c\n",
      "Enter temperature (e.g., 36C), or press Enter to finish:  35c\n",
      "Enter temperature (e.g., 36C), or press Enter to finish:  38c\n",
      "Enter temperature (e.g., 36C), or press Enter to finish:  40c\n",
      "Enter temperature (e.g., 36C), or press Enter to finish:  \n"
     ]
    },
    {
     "name": "stdout",
     "output_type": "stream",
     "text": [
      "Maximum temperature: 104.00F\n",
      "Minimum temperature: 95.00F\n",
      "Mean temperature: 99.05F\n"
     ]
    }
   ],
   "source": [
    "'''Modify the previous program so that it can process any number of values. The input\n",
    " terminates when the user just pressed \"Enter\" at the prompt rather than entering a\n",
    " value.'''\n",
    "\n",
    "def centigrade_to_fahrenheit(temp):\n",
    "    fahrenheit = (temp * 9/5) + 32\n",
    "    return fahrenheit\n",
    "\n",
    "store_temperatures = []\n",
    "\n",
    "while True:\n",
    "    Temperature = input(f\"Enter temperature (e.g., 36C), or press Enter to finish: \")\n",
    "    if Temperature == \"\":\n",
    "        break\n",
    "\n",
    "    if Temperature[-1].upper() != 'C':\n",
    "        print(\"Please enter C after the number!!!\")\n",
    "    else:\n",
    "        change_datatype = float(Temperature[:-1])\n",
    "        fahrenheit_value = centigrade_to_fahrenheit(change_datatype)\n",
    "        store_temperatures.append(fahrenheit_value)\n",
    "\n",
    "max_temp = max(store_temperatures)\n",
    "min_temp = min(store_temperatures)\n",
    "mean_temp = sum(store_temperatures) / len(store_temperatures)\n",
    "\n",
    "print(f\"Maximum temperature: {max_temp:.2f}F\")\n",
    "print(f\"Minimum temperature: {min_temp:.2f}F\")\n",
    "print(f\"Mean temperature: {mean_temp:.2f}F\")\n",
    "\n"
   ]
  },
  {
   "cell_type": "code",
   "execution_count": null,
   "id": "d9cbcbb1-3f4c-485f-8715-a948dd7ace60",
   "metadata": {},
   "outputs": [],
   "source": []
  }
 ],
 "metadata": {
  "kernelspec": {
   "display_name": "Python 3 (ipykernel)",
   "language": "python",
   "name": "python3"
  },
  "language_info": {
   "codemirror_mode": {
    "name": "ipython",
    "version": 3
   },
   "file_extension": ".py",
   "mimetype": "text/x-python",
   "name": "python",
   "nbconvert_exporter": "python",
   "pygments_lexer": "ipython3",
   "version": "3.13.0"
  }
 },
 "nbformat": 4,
 "nbformat_minor": 5
}
